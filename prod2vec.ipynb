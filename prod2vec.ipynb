{
 "cells": [
  {
   "cell_type": "code",
   "execution_count": 1,
   "metadata": {},
   "outputs": [],
   "source": [
    "import numpy as np\n",
    "import pandas as pd \n",
    "from sklearn.metrics.pairwise import sigmoid_kernel\n",
    "from sklearn.feature_extraction.text import TfidfVectorizer\n",
    "from sklearn.metrics.pairwise import cosine_similarity\n",
    "from gensim.models import Word2Vec\n",
    "from gensim.models import KeyedVectors\n",
    "import gensim\n",
    "import numpy as np\n",
    "import pandas as pd\n",
    "from tqdm import tqdm\n",
    "from collections import defaultdict\n",
    "import re\n",
    "import nltk\n"
   ]
  },
  {
   "cell_type": "code",
   "execution_count": 9,
   "metadata": {},
   "outputs": [
    {
     "name": "stdout",
     "output_type": "stream",
     "text": [
      "(20000, 15) 12676 20000\n"
     ]
    }
   ],
   "source": [
    "\n",
    "products = pd.read_csv(r'.\\Recommeder\\Data\\flipkart_com-ecommerce_sample.csv')\n",
    "print(products.shape ,len(products['product_name'].unique()),len(products['uniq_id'].unique()))\n",
    "\n",
    "transactions_path = r\".\\Recommeder\\Data\\transaction.csv\"\n",
    "\n",
    "transaction_table = pd.read_csv(transactions_path)\n"
   ]
  },
  {
   "cell_type": "code",
   "execution_count": 4,
   "metadata": {},
   "outputs": [],
   "source": [
    "def getPid(pname):\n",
    "    return products[products['product_name'] == pname]['uniq_id'].values[0]\n",
    "\n",
    "# print(getPid('Urthn Alloy Necklace'))\n",
    "\n"
   ]
  },
  {
   "cell_type": "code",
   "execution_count": 6,
   "metadata": {},
   "outputs": [
    {
     "name": "stdout",
     "output_type": "stream",
     "text": [
      "['key', 'features', 'of', 'alisha', 'solid', 'women', 'cycling', 'shorts', 'cotton', 'lycra', 'navy', 'red', 'navy', 'specifications', 'of', 'alisha', 'solid', 'women', 'cycling', 'shorts', 'shorts', 'details', 'number', 'of', 'contents', 'in', 'sales', 'package', 'pack', 'of', '3', 'fabric', 'cotton', 'lycra', 'type', 'cycling', 'shorts', 'general', 'details', 'pattern', 'solid', 'ideal', 'for', 'women', 'fabric', 'care', 'gentle', 'machine', 'wash', 'in', 'lukewarm', 'water', 'do', 'not', 'bleach', 'additional', 'details', 'style', 'code', 'altht_3p_21', 'in', 'the', 'box', '3', 'shorts', 'alisha', 'solid', 'women', 'cycling', 'shorts']\n"
     ]
    }
   ],
   "source": [
    "\n",
    "products['description'] = products['description'].fillna('')\n",
    "corpus = products['description'] + \" \" + products['product_name']\n",
    "corpus = corpus.tolist()\n",
    "\n",
    "corpus = [re.sub(r'\\W', ' ', str(x)) for x in corpus]\n",
    "corpus = [re.sub(r'\\s+[a-zA-Z]\\s+', ' ', x) for x in corpus]\n",
    "corpus = [re.sub(r'\\^[a-zA-Z]\\s+', ' ', x) for x in corpus]\n",
    "corpus = [re.sub(r'\\s+', ' ', x, flags=re.I) for x in corpus]\n",
    "corpus = [x.lower() for x in corpus]\n",
    "\n",
    "# print(corpus[0])\n",
    "corpus = [x.split() for x in corpus]\n",
    "print(corpus[0])"
   ]
  },
  {
   "cell_type": "code",
   "execution_count": 11,
   "metadata": {},
   "outputs": [],
   "source": [
    "# generating sequence of products bought by user\n",
    "\n",
    "new_transaction_table = transaction_table.groupby('UID')['PID'].apply(list).reset_index(name='sequence')"
   ]
  },
  {
   "cell_type": "code",
   "execution_count": 43,
   "metadata": {},
   "outputs": [],
   "source": [
    "# save new_transaction_table as csv\n",
    "new_transaction_table.to_csv(r'.\\Recommeder\\Data\\new_transaction_table.csv', index=False)\n"
   ]
  },
  {
   "cell_type": "code",
   "execution_count": 26,
   "metadata": {},
   "outputs": [],
   "source": [
    "\n",
    "class Prod2VecRecommender():\n",
    "    def __init__(self, min_count=2, size=100, window=5, decay_alpha=0.9, workers=4):\n",
    "\n",
    "        super(Prod2VecRecommender, self).__init__()\n",
    "        self.min_count = min_count\n",
    "        self.size = size\n",
    "        self.window = window\n",
    "        self.decay_alpha = decay_alpha\n",
    "        self.workers = workers\n",
    "\n",
    "    def __str__(self):\n",
    "        return 'Prod2VecRecommender(min_count={min_count}, ' \\\n",
    "               'size={size}, ' \\\n",
    "               'window={window}, ' \\\n",
    "               'decay_alpha={decay_alpha}, ' \\\n",
    "               'workers={workers})'.format(**self.__dict__)\n",
    "\n",
    "    def fit(self, train_data):\n",
    "        sequences = train_data['sequence']\n",
    "        self.model = Word2Vec(sentences=sequences, vector_size=self.size, window=self.window, min_count=self.min_count, workers=self.workers, sg=0)\n",
    "        self.model.train(sequences, total_examples=len(sequences), epochs=100)\n",
    "        return self\n",
    "\n"
   ]
  },
  {
   "cell_type": "code",
   "execution_count": 27,
   "metadata": {},
   "outputs": [
    {
     "data": {
      "text/plain": [
       "<__main__.Prod2VecRecommender at 0x206ae5ad850>"
      ]
     },
     "execution_count": 27,
     "metadata": {},
     "output_type": "execute_result"
    }
   ],
   "source": [
    "prod2vecRecom = Prod2VecRecommender()\n",
    "prod2vecRecom.fit(new_transaction_table)\n",
    "\n"
   ]
  },
  {
   "cell_type": "code",
   "execution_count": 34,
   "metadata": {},
   "outputs": [],
   "source": [
    "\n",
    "pidToProductSeries = pd.Series(products['product_name'].values,index=products['uniq_id']).to_dict()\n",
    "\n",
    "# pid to  product metadata dictionary \n",
    "# metadata = {pid : [product_name, description, product_category_tree ,brand,product_url ,image ]\n",
    "# pidToProductMetadata = pd.Series(products[['product_name','description','product_category_tree','brand','product_url','image']].values,index=products['uniq_id']).to_dict()\n",
    "pidToProductMetadata = {}\n",
    "for i in range(len(products)):\n",
    "    pidToProductMetadata[products['uniq_id'][i]] = [products['product_name'][i],products['description'][i],products['product_category_tree'][i],products['brand'][i],products['product_url'][i],products['image'][i]]\n",
    "\n",
    "\n",
    "\n",
    "\n",
    "\n"
   ]
  },
  {
   "cell_type": "code",
   "execution_count": 39,
   "metadata": {},
   "outputs": [
    {
     "name": "stdout",
     "output_type": "stream",
     "text": [
      "[\"Tia by Ten on Ten Styla Women's Full Coverage Bra\", \"Tia by Ten on Ten Styla Women's Full Coverage Bra - Buy Brown Tia by Ten on Ten Styla Women's Full Coverage Bra For Only Rs. 399 Online in India. Shop Online For Apparels. Huge Collection of Branded Clothes Only at Flipkart.com\", '[\"Clothing >> Women\\'s Clothing >> Lingerie, Sleep & Swimwear >> Bras >> Tia by Ten on Ten Bras\"]', 'Brown', 'http://www.flipkart.com/tia-ten-styla-women-s-full-coverage-bra/p/itmebhchaxd8nn2h?pid=BRAEBHCHY6VVRNRQ', '[\"http://img5a.flixcart.com/image/bra/n/r/q/wt-br-tia-by-ten-on-ten-36a-original-imaebh64zk4gmwmg.jpeg\", \"http://img6a.flixcart.com/image/bra/n/r/q/wt-br-tia-by-ten-on-ten-36a-original-imaebh64zk4gmwmg.jpeg\", \"http://img6a.flixcart.com/image/bra/n/r/q/wt-br-tia-by-ten-on-ten-36b-original-imaebh64qrrqdjyr.jpeg\", \"http://img5a.flixcart.com/image/bra/n/r/q/wt-br-tia-by-ten-on-ten-34b-original-imaebh64qzqaugdv.jpeg\", \"http://img6a.flixcart.com/image/bra/n/r/q/wt-br-tia-by-ten-on-ten-36a-original-imaebh64hmjnxxph.jpeg\"]']\n"
     ]
    }
   ],
   "source": [
    "# print(pidToProductMetadata['bcb291159f10a43cb08908bd2bdd70c5'])"
   ]
  },
  {
   "cell_type": "code",
   "execution_count": 32,
   "metadata": {},
   "outputs": [
    {
     "data": {
      "text/html": [
       "<div>\n",
       "<style scoped>\n",
       "    .dataframe tbody tr th:only-of-type {\n",
       "        vertical-align: middle;\n",
       "    }\n",
       "\n",
       "    .dataframe tbody tr th {\n",
       "        vertical-align: top;\n",
       "    }\n",
       "\n",
       "    .dataframe thead th {\n",
       "        text-align: right;\n",
       "    }\n",
       "</style>\n",
       "<table border=\"1\" class=\"dataframe\">\n",
       "  <thead>\n",
       "    <tr style=\"text-align: right;\">\n",
       "      <th></th>\n",
       "      <th>uniq_id</th>\n",
       "      <th>crawl_timestamp</th>\n",
       "      <th>product_url</th>\n",
       "      <th>product_name</th>\n",
       "      <th>product_category_tree</th>\n",
       "      <th>pid</th>\n",
       "      <th>retail_price</th>\n",
       "      <th>discounted_price</th>\n",
       "      <th>image</th>\n",
       "      <th>is_FK_Advantage_product</th>\n",
       "      <th>description</th>\n",
       "      <th>product_rating</th>\n",
       "      <th>overall_rating</th>\n",
       "      <th>brand</th>\n",
       "      <th>product_specifications</th>\n",
       "    </tr>\n",
       "  </thead>\n",
       "  <tbody>\n",
       "    <tr>\n",
       "      <th>0</th>\n",
       "      <td>c2d766ca982eca8304150849735ffef9</td>\n",
       "      <td>2016-03-25 22:59:23 +0000</td>\n",
       "      <td>http://www.flipkart.com/alisha-solid-women-s-c...</td>\n",
       "      <td>Alisha Solid Women's Cycling Shorts</td>\n",
       "      <td>[\"Clothing &gt;&gt; Women's Clothing &gt;&gt; Lingerie, Sl...</td>\n",
       "      <td>SRTEH2FF9KEDEFGF</td>\n",
       "      <td>999.0</td>\n",
       "      <td>379.0</td>\n",
       "      <td>[\"http://img5a.flixcart.com/image/short/u/4/a/...</td>\n",
       "      <td>False</td>\n",
       "      <td>Key Features of Alisha Solid Women's Cycling S...</td>\n",
       "      <td>No rating available</td>\n",
       "      <td>No rating available</td>\n",
       "      <td>Alisha</td>\n",
       "      <td>{\"product_specification\"=&gt;[{\"key\"=&gt;\"Number of ...</td>\n",
       "    </tr>\n",
       "    <tr>\n",
       "      <th>1</th>\n",
       "      <td>7f7036a6d550aaa89d34c77bd39a5e48</td>\n",
       "      <td>2016-03-25 22:59:23 +0000</td>\n",
       "      <td>http://www.flipkart.com/fabhomedecor-fabric-do...</td>\n",
       "      <td>FabHomeDecor Fabric Double Sofa Bed</td>\n",
       "      <td>[\"Furniture &gt;&gt; Living Room Furniture &gt;&gt; Sofa B...</td>\n",
       "      <td>SBEEH3QGU7MFYJFY</td>\n",
       "      <td>32157.0</td>\n",
       "      <td>22646.0</td>\n",
       "      <td>[\"http://img6a.flixcart.com/image/sofa-bed/j/f...</td>\n",
       "      <td>False</td>\n",
       "      <td>FabHomeDecor Fabric Double Sofa Bed (Finish Co...</td>\n",
       "      <td>No rating available</td>\n",
       "      <td>No rating available</td>\n",
       "      <td>FabHomeDecor</td>\n",
       "      <td>{\"product_specification\"=&gt;[{\"key\"=&gt;\"Installati...</td>\n",
       "    </tr>\n",
       "    <tr>\n",
       "      <th>2</th>\n",
       "      <td>f449ec65dcbc041b6ae5e6a32717d01b</td>\n",
       "      <td>2016-03-25 22:59:23 +0000</td>\n",
       "      <td>http://www.flipkart.com/aw-bellies/p/itmeh4grg...</td>\n",
       "      <td>AW Bellies</td>\n",
       "      <td>[\"Footwear &gt;&gt; Women's Footwear &gt;&gt; Ballerinas &gt;...</td>\n",
       "      <td>SHOEH4GRSUBJGZXE</td>\n",
       "      <td>999.0</td>\n",
       "      <td>499.0</td>\n",
       "      <td>[\"http://img5a.flixcart.com/image/shoe/7/z/z/r...</td>\n",
       "      <td>False</td>\n",
       "      <td>Key Features of AW Bellies Sandals Wedges Heel...</td>\n",
       "      <td>No rating available</td>\n",
       "      <td>No rating available</td>\n",
       "      <td>AW</td>\n",
       "      <td>{\"product_specification\"=&gt;[{\"key\"=&gt;\"Ideal For\"...</td>\n",
       "    </tr>\n",
       "    <tr>\n",
       "      <th>3</th>\n",
       "      <td>0973b37acd0c664e3de26e97e5571454</td>\n",
       "      <td>2016-03-25 22:59:23 +0000</td>\n",
       "      <td>http://www.flipkart.com/alisha-solid-women-s-c...</td>\n",
       "      <td>Alisha Solid Women's Cycling Shorts</td>\n",
       "      <td>[\"Clothing &gt;&gt; Women's Clothing &gt;&gt; Lingerie, Sl...</td>\n",
       "      <td>SRTEH2F6HUZMQ6SJ</td>\n",
       "      <td>699.0</td>\n",
       "      <td>267.0</td>\n",
       "      <td>[\"http://img5a.flixcart.com/image/short/6/2/h/...</td>\n",
       "      <td>False</td>\n",
       "      <td>Key Features of Alisha Solid Women's Cycling S...</td>\n",
       "      <td>No rating available</td>\n",
       "      <td>No rating available</td>\n",
       "      <td>Alisha</td>\n",
       "      <td>{\"product_specification\"=&gt;[{\"key\"=&gt;\"Number of ...</td>\n",
       "    </tr>\n",
       "    <tr>\n",
       "      <th>4</th>\n",
       "      <td>bc940ea42ee6bef5ac7cea3fb5cfbee7</td>\n",
       "      <td>2016-03-25 22:59:23 +0000</td>\n",
       "      <td>http://www.flipkart.com/sicons-all-purpose-arn...</td>\n",
       "      <td>Sicons All Purpose Arnica Dog Shampoo</td>\n",
       "      <td>[\"Pet Supplies &gt;&gt; Grooming &gt;&gt; Skin &amp; Coat Care...</td>\n",
       "      <td>PSOEH3ZYDMSYARJ5</td>\n",
       "      <td>220.0</td>\n",
       "      <td>210.0</td>\n",
       "      <td>[\"http://img5a.flixcart.com/image/pet-shampoo/...</td>\n",
       "      <td>False</td>\n",
       "      <td>Specifications of Sicons All Purpose Arnica Do...</td>\n",
       "      <td>No rating available</td>\n",
       "      <td>No rating available</td>\n",
       "      <td>Sicons</td>\n",
       "      <td>{\"product_specification\"=&gt;[{\"key\"=&gt;\"Pet Type\",...</td>\n",
       "    </tr>\n",
       "  </tbody>\n",
       "</table>\n",
       "</div>"
      ],
      "text/plain": [
       "                            uniq_id            crawl_timestamp  \\\n",
       "0  c2d766ca982eca8304150849735ffef9  2016-03-25 22:59:23 +0000   \n",
       "1  7f7036a6d550aaa89d34c77bd39a5e48  2016-03-25 22:59:23 +0000   \n",
       "2  f449ec65dcbc041b6ae5e6a32717d01b  2016-03-25 22:59:23 +0000   \n",
       "3  0973b37acd0c664e3de26e97e5571454  2016-03-25 22:59:23 +0000   \n",
       "4  bc940ea42ee6bef5ac7cea3fb5cfbee7  2016-03-25 22:59:23 +0000   \n",
       "\n",
       "                                         product_url  \\\n",
       "0  http://www.flipkart.com/alisha-solid-women-s-c...   \n",
       "1  http://www.flipkart.com/fabhomedecor-fabric-do...   \n",
       "2  http://www.flipkart.com/aw-bellies/p/itmeh4grg...   \n",
       "3  http://www.flipkart.com/alisha-solid-women-s-c...   \n",
       "4  http://www.flipkart.com/sicons-all-purpose-arn...   \n",
       "\n",
       "                            product_name  \\\n",
       "0    Alisha Solid Women's Cycling Shorts   \n",
       "1    FabHomeDecor Fabric Double Sofa Bed   \n",
       "2                             AW Bellies   \n",
       "3    Alisha Solid Women's Cycling Shorts   \n",
       "4  Sicons All Purpose Arnica Dog Shampoo   \n",
       "\n",
       "                               product_category_tree               pid  \\\n",
       "0  [\"Clothing >> Women's Clothing >> Lingerie, Sl...  SRTEH2FF9KEDEFGF   \n",
       "1  [\"Furniture >> Living Room Furniture >> Sofa B...  SBEEH3QGU7MFYJFY   \n",
       "2  [\"Footwear >> Women's Footwear >> Ballerinas >...  SHOEH4GRSUBJGZXE   \n",
       "3  [\"Clothing >> Women's Clothing >> Lingerie, Sl...  SRTEH2F6HUZMQ6SJ   \n",
       "4  [\"Pet Supplies >> Grooming >> Skin & Coat Care...  PSOEH3ZYDMSYARJ5   \n",
       "\n",
       "   retail_price  discounted_price  \\\n",
       "0         999.0             379.0   \n",
       "1       32157.0           22646.0   \n",
       "2         999.0             499.0   \n",
       "3         699.0             267.0   \n",
       "4         220.0             210.0   \n",
       "\n",
       "                                               image  is_FK_Advantage_product  \\\n",
       "0  [\"http://img5a.flixcart.com/image/short/u/4/a/...                    False   \n",
       "1  [\"http://img6a.flixcart.com/image/sofa-bed/j/f...                    False   \n",
       "2  [\"http://img5a.flixcart.com/image/shoe/7/z/z/r...                    False   \n",
       "3  [\"http://img5a.flixcart.com/image/short/6/2/h/...                    False   \n",
       "4  [\"http://img5a.flixcart.com/image/pet-shampoo/...                    False   \n",
       "\n",
       "                                         description       product_rating  \\\n",
       "0  Key Features of Alisha Solid Women's Cycling S...  No rating available   \n",
       "1  FabHomeDecor Fabric Double Sofa Bed (Finish Co...  No rating available   \n",
       "2  Key Features of AW Bellies Sandals Wedges Heel...  No rating available   \n",
       "3  Key Features of Alisha Solid Women's Cycling S...  No rating available   \n",
       "4  Specifications of Sicons All Purpose Arnica Do...  No rating available   \n",
       "\n",
       "        overall_rating         brand  \\\n",
       "0  No rating available        Alisha   \n",
       "1  No rating available  FabHomeDecor   \n",
       "2  No rating available            AW   \n",
       "3  No rating available        Alisha   \n",
       "4  No rating available        Sicons   \n",
       "\n",
       "                              product_specifications  \n",
       "0  {\"product_specification\"=>[{\"key\"=>\"Number of ...  \n",
       "1  {\"product_specification\"=>[{\"key\"=>\"Installati...  \n",
       "2  {\"product_specification\"=>[{\"key\"=>\"Ideal For\"...  \n",
       "3  {\"product_specification\"=>[{\"key\"=>\"Number of ...  \n",
       "4  {\"product_specification\"=>[{\"key\"=>\"Pet Type\",...  "
      ]
     },
     "execution_count": 32,
     "metadata": {},
     "output_type": "execute_result"
    }
   ],
   "source": [
    "products.head()"
   ]
  },
  {
   "cell_type": "code",
   "execution_count": 29,
   "metadata": {},
   "outputs": [],
   "source": [
    "pidToidx = pd.Series(products.index,index=products['uniq_id']).drop_duplicates()"
   ]
  },
  {
   "cell_type": "code",
   "execution_count": 45,
   "metadata": {},
   "outputs": [
    {
     "name": "stdout",
     "output_type": "stream",
     "text": [
      "[[\"Tia by Ten on Ten Styla Women's Full Coverage Bra\", \"Tia by Ten on Ten Styla Women's Full Coverage Bra - Buy Brown Tia by Ten on Ten Styla Women's Full Coverage Bra For Only Rs. 399 Online in India. Shop Online For Apparels. Huge Collection of Branded Clothes Only at Flipkart.com\", '[\"Clothing >> Women\\'s Clothing >> Lingerie, Sleep & Swimwear >> Bras >> Tia by Ten on Ten Bras\"]', 'Brown', 'http://www.flipkart.com/tia-ten-styla-women-s-full-coverage-bra/p/itmebhchaxd8nn2h?pid=BRAEBHCHY6VVRNRQ', '[\"http://img5a.flixcart.com/image/bra/n/r/q/wt-br-tia-by-ten-on-ten-36a-original-imaebh64zk4gmwmg.jpeg\", \"http://img6a.flixcart.com/image/bra/n/r/q/wt-br-tia-by-ten-on-ten-36a-original-imaebh64zk4gmwmg.jpeg\", \"http://img6a.flixcart.com/image/bra/n/r/q/wt-br-tia-by-ten-on-ten-36b-original-imaebh64qrrqdjyr.jpeg\", \"http://img5a.flixcart.com/image/bra/n/r/q/wt-br-tia-by-ten-on-ten-34b-original-imaebh64qzqaugdv.jpeg\", \"http://img6a.flixcart.com/image/bra/n/r/q/wt-br-tia-by-ten-on-ten-36a-original-imaebh64hmjnxxph.jpeg\"]'], ['Voylla Artifictial Beaded Plain Alloy Necklace', 'Voylla Artifictial Beaded Plain Alloy Necklace\\n                         Price: Rs. 381\\n\\t\\t\\t\\t\\n\\t\\t\\tIt is an exquisite piece of fashion jewellery that enhances appearance and makes a modern statement. Featuring bib design decorated with dainty black & golden metal beads.\\nIt is an exquisite piece of fashion jewellery that enhances appearance and makes a modern statement. Featuring bib design decorated with dainty black & golden metal beads.', '[\"Jewellery >> Necklaces & Chains >> Necklaces\"]', 'Voylla', 'http://www.flipkart.com/voylla-artifictial-beaded-plain-alloy-necklace/p/itme64z45qzsahbx?pid=NKCE64Z4UYTTXRWS', '[\"http://img6a.flixcart.com/image/necklace-chain/r/w/s/8907275229636-voylla-necklace-1100x1100-imae5xafhxrfzbay.jpeg\", \"http://img5a.flixcart.com/image/necklace-chain/r/w/s/8907275229636-voylla-necklace-original-imae5xafhxrfzbay.jpeg\", \"http://img6a.flixcart.com/image/necklace-chain/r/w/s/8907275229636-voylla-necklace-original-imae5xafsu7rg5zg.jpeg\"]'], ['Remson India Boots', 'Remson India Boots - Buy Remson India Boots - 132 only for Rs. 1999 from Flipkart.com. Only Genuine Products. 30 Day Replacement Guarantee. Free Shipping. Cash On Delivery!', '[\"Footwear >> Women\\'s Footwear >> Casual Shoes >> Boots\"]', nan, 'http://www.flipkart.com/remson-india-boots/p/itmecxzepjpzcpyy?pid=SHOECXZEFH55CZT9', '[\"http://img5a.flixcart.com/image/shoe/e/h/d/black-132-remson-india-37-original-imaecxgfbgnerwqg.jpeg\", \"http://img6a.flixcart.com/image/shoe/e/h/d/black-132-remson-india-39-original-imaecxgfuz5zyed4.jpeg\", \"http://img5a.flixcart.com/image/shoe/e/h/d/black-132-remson-india-40-original-imaecxgfzuzdehz9.jpeg\", \"http://img5a.flixcart.com/image/shoe/e/h/d/black-132-remson-india-40-original-imaecxgfchsnhghr.jpeg\", \"http://img6a.flixcart.com/image/shoe/e/h/d/black-132-remson-india-39-original-imaecxgfhbpbmtdf.jpeg\"]'], [\"Crux&Hunter Printed Boy's Round Neck Blue T-Shirt\", \"Specifications of Crux&Hunter Printed Boy's Round Neck Blue T-Shirt T-shirt Details Sleeve Half Sleeve Number of Contents in Sales Package Pack of 1 Fabric Cotton Type Round Neck Fit Slim General Details Pattern Printed Ideal For Boy's Occasion Casual Fabric Care Wash with Similar Colors, Use Detergent for Colors Additional Details Style Code RebelBlue In the Box 1 T Shirt\", '[\"Clothing >> Kids\\' Clothing >> Boys Wear >> Polos & T-Shirts >> Crux&Hunter Polos & T-Shirts >> Crux&Hunter Printed Boy\\'s Round Neck Blue T-Shirt\"]', 'Crux&Hunter', 'http://www.flipkart.com/crux-hunter-printed-boy-s-round-neck-blue-t-shirt/p/itmeggchyjwhywkm?pid=TSHEGGCHFAHRFARC', '[\"http://img5a.flixcart.com/image/t-shirt/u/a/q/rebelblue-crux-hunter-11-12-years-original-imaeg6fw56vseen7.jpeg\", \"http://img6a.flixcart.com/image/t-shirt/u/a/q/rebelblue-crux-hunter-11-12-years-original-imaeg6fw56vseen7.jpeg\", \"http://img5a.flixcart.com/image/t-shirt/u/a/q/rebelblue-crux-hunter-11-12-years-original-imaegg9kzcrhm6cy.jpeg\", \"http://img6a.flixcart.com/image/t-shirt/a/r/c/rebelblue-crux-hunter-8-9-years-original-imaegg9khbsvfdzh.jpeg\"]'], [\"Folklore Festive Sleeveless Printed Women's Top\", \"Folklore Festive Sleeveless Printed Women's Top - Buy NAVY BLUE, GREEN Folklore Festive Sleeveless Printed Women's Top For Only Rs. 549 Online in India. Shop Online For Apparels. Huge Collection of Branded Clothes Only at Flipkart.com\", '[\"Clothing >> Women\\'s Clothing >> Western Wear >> Shirts, Tops & Tunics >> Tops >> Folklore Tops\"]', nan, 'http://www.flipkart.com/folklore-festive-sleeveless-printed-women-s-top/p/itmea8hngzcjhv5f?pid=TOPEA8HNSZB8VGUR', '[\"http://img6a.flixcart.com/image/top/c/v/2/1-1-fotp000062-navy-blue-green-folklore-xl-original-imaea7s7cdayfkgy.jpeg\", \"http://img6a.flixcart.com/image/top/c/v/2/1-1-fotp000062-navy-blue-green-folklore-xl-original-imaea7s6gmzm6geu.jpeg\", \"http://img5a.flixcart.com/image/top/c/v/2/1-1-fotp000062-navy-blue-green-folklore-s-original-imaea7s7ty3th6cu.jpeg\", \"http://img6a.flixcart.com/image/top/c/v/2/1-1-fotp000062-navy-blue-green-folklore-s-original-imaea7s6tmhm9nsw.jpeg\"]'], ['Stylistry Maxis Shde6603brwoboot3104 Boots', 'Stylistry Maxis Shde6603brwoboot3104 Boots - Buy Stylistry Maxis Shde6603brwoboot3104 Boots - SHDE6603BRWOBOOT3104 only for Rs. 1599 from Flipkart.com. Only Genuine Products. 30 Day Replacement Guarantee. Free Shipping. Cash On Delivery!', '[\"Footwear >> Women\\'s Footwear >> Casual Shoes >> Boots\"]', nan, 'http://www.flipkart.com/stylistry-maxis-shde6603brwoboot3104-boots/p/itme8kr77t3ymbdt?pid=SHOEFZ37XDUHHTZW', '[\"http://img6a.flixcart.com/image/shoe/t/z/w/brown-shde6603brwoboot3104-stylistry-41-original-imaefyyvpghhpxqy.jpeg\", \"http://img5a.flixcart.com/image/shoe/t/z/w/brown-shde6603brwoboot3104-stylistry-39-original-imaefyyvjn2q3pqe.jpeg\", \"http://img6a.flixcart.com/image/shoe/t/z/w/brown-shde6603brwoboot3104-stylistry-41-original-imaefyyv8xcntway.jpeg\", \"http://img6a.flixcart.com/image/shoe/t/z/w/brown-shde6603brwoboot3104-stylistry-41-original-imaefyywpum5egng.jpeg\", \"http://img5a.flixcart.com/image/shoe/t/z/w/brown-shde6603brwoboot3104-stylistry-39-original-imaefyyvvavqxfbc.jpeg\"]'], [\"S4S Stylish Women's Push-up Bra\", \"S4S Stylish Women's Push-up Bra - Buy Purple S4S Stylish Women's Push-up Bra For Only Rs. 799 Online in India. Shop Online For Apparels. Huge Collection of Branded Clothes Only at Flipkart.com\", '[\"Clothing >> Women\\'s Clothing >> Lingerie, Sleep & Swimwear >> Bras >> S4S Bras\"]', 'Purple', 'http://www.flipkart.com/s4s-stylish-women-s-push-up-bra/p/itmedqdfcpy2kahz?pid=BRAEDQDFPNUQGUVG', '[\"http://img5a.flixcart.com/image/bra/k/t/b/pihu-purplemaroonyellow-3-s4s-34b-original-imaedq9hxfngqbz9.jpeg\", \"http://img6a.flixcart.com/image/bra/k/t/b/pihu-purplemaroonyellow-3-s4s-34b-original-imaedq9hxfngqbz9.jpeg\", \"http://img6a.flixcart.com/image/bra/k/t/b/pihu-purplemaroonyellow-3-s4s-32b-original-imaedq9hthuqagme.jpeg\", \"http://img5a.flixcart.com/image/bra/k/t/b/pihu-purplemaroonyellow-3-s4s-34b-original-imaedq9hkkyfazs7.jpeg\"]'], ['Dressberry Gold Synthetic  Clutch', 'Dressberry Gold Synthetic  Clutch Price: Rs. 1,299 Gold-toned printed clutch with shimmery detailing, has a flap across the mouth secured with a magnetic button closure. One long detachable interlinked metallic chain strap. One main compartment, has a slip pocket. Accessorise your party outfit with this elegant clutch which is a delectable combination of looks and convenience. Team it with a bodycon dress or an Anarkali kurta to make a style statement.,Specifications of Dressberry Gold Synthetic  Clutch General Material Synthetic Style Code 1128515 Color Code Gold', '[\"Dressberry Gold Synthetic  Clutch\"]', 'Dressberry', 'http://www.flipkart.com/dressberry-gold-synthetic-clutch/p/itmehe9fwfwdphk6?pid=CLTEHE9FKGAZSNXR', '[\"http://img5a.flixcart.com/image/clutch/n/x/r/1128515-dressberry-clutch-premium-original-imaehdjfwppd9bxd.jpeg\", \"http://img5a.flixcart.com/image/clutch/n/x/r/1128515-dressberry-clutch-premium-original-imaehdjfffwx5zny.jpeg\", \"http://img6a.flixcart.com/image/clutch/n/x/r/1128515-dressberry-clutch-premium-original-imaehdjf9ngay25h.jpeg\", \"http://img6a.flixcart.com/image/clutch/n/x/r/1128515-dressberry-clutch-premium-original-imaehdjfeyqgdhg3.jpeg\", \"http://img5a.flixcart.com/image/clutch/n/x/r/1128515-dressberry-clutch-premium-original-imaehdjfvzuwhzy8.jpeg\"]'], ['Edit One Romance Dog Cartoon Art Plastic Pencil Box', 'Flipkart.com: Buy Edit One Romance Dog Cartoon Art Plastic Pencil Box only for Rs. 120 from Flipkart.com. Only Genuine Products. 30 Day Replacement Guarantee. Free Shipping. Cash On Delivery!', '[\"Toys & School Supplies >> School Supplies >> Geometry & Pencil Boxes >> Edit One Geometry & Pencil Boxes\"]', nan, 'http://www.flipkart.com/edit-one-romance-dog-cartoon-art-plastic-pencil-box/p/itmed9q2hhg9egzq?pid=PBXED9Q2HJJNMWMM', '[\"http://img6a.flixcart.com/image/pencil-box/w/m/m/edit-one-044p-original-imaedazfuhatc3jm.jpeg\"]'], ['INVENTURE RETAIL Nail Cutter', 'Specifications of INVENTURE RETAIL Nail Cutter General Type Cutter Ideal For Boys, Girls In the Box 1 Nail Cutter', '[\"INVENTURE RETAIL Nail Cutter\"]', 'INVENTURE RETAIL', 'http://www.flipkart.com/inventure-retail-nail-cutter/p/itmehztvseugj2tn?pid=NCCEHZTVHHY8BNDD', '[\"http://img5a.flixcart.com/image/nail-clipper-cutter/n/d/d/cliper-inventure-retail-nail-cutter-1100x1100-imaehzfxbfrkpe3g.jpeg\", \"http://img5a.flixcart.com/image/nail-clipper-cutter/n/d/d/cliper-inventure-retail-nail-cutter-original-imaehzfxbfrkpe3g.jpeg\", \"http://img5a.flixcart.com/image/nail-clipper-cutter/n/d/d/cliper-inventure-retail-nail-cutter-original-imaehzfyhybhzdfg.jpeg\", \"http://img5a.flixcart.com/image/nail-clipper-cutter/n/d/d/cliper-inventure-retail-nail-cutter-original-imaehrt38gqvzhtg.jpeg\", \"http://img5a.flixcart.com/image/nail-clipper-cutter/n/d/d/cliper-inventure-retail-nail-cutter-original-imaehrt4huhmz7nk.jpeg\", \"http://img6a.flixcart.com/image/nail-clipper-cutter/n/d/d/cliper-inventure-retail-nail-cutter-original-imaehrt4uafztyvu.jpeg\"]']]\n"
     ]
    }
   ],
   "source": [
    "\n",
    "userId = \"2e112284-8013-430d-b784-8f1808dd4e76\"\n",
    "\n",
    "def getreccomend(userId):\n",
    "    reccomdations = []\n",
    "    # Past Purchases\n",
    "    pastPurchases = new_transaction_table[new_transaction_table['UID'] == userId]['sequence'].values\n",
    "\n",
    "    # print(\"Past purchases: \", len(pastPurchases[0]))\n",
    "    # Print name of products bought by user\n",
    "    # pastProductNames = []\n",
    "    # for i in pastPurchases[0]:\n",
    "    #     pastProductNames.append(pidToProductSeries[i])\n",
    "\n",
    "    # print(\"Products bought by user: \", len(pastProductNames))\n",
    "    # print(pastProductNames)\n",
    "\n",
    "\n",
    "    reccomdations = prod2vecRecom.model.wv.most_similar(positive=pastPurchases[0], topn=10)\n",
    "\n",
    "    # print(\"\\nTop Recommended products are: \\n\")\n",
    "    # print(\"Product Recommended to the user: \", len(reccomdations))\n",
    "    # print(reccomdations)\n",
    "\n",
    "    reccomdation = []\n",
    "    for i in reccomdations:\n",
    "        # print(pidToProductSeries[i[0]])\n",
    "        reccomdation.append(pidToProductMetadata[i[0]])\n",
    "    # print(reccomdation)\n",
    "    return reccomdation\n",
    "    # print(reccomdation)\n",
    "print(getreccomend(userId))"
   ]
  },
  {
   "cell_type": "code",
   "execution_count": 46,
   "metadata": {},
   "outputs": [],
   "source": [
    "\n",
    "import pickle\n",
    "with open('prod2vec.pkl', 'wb') as f:\n",
    "    pickle.dump(prod2vecRecom, f)\n"
   ]
  },
  {
   "cell_type": "code",
   "execution_count": null,
   "metadata": {},
   "outputs": [],
   "source": []
  }
 ],
 "metadata": {
  "kernelspec": {
   "display_name": "base",
   "language": "python",
   "name": "python3"
  },
  "language_info": {
   "codemirror_mode": {
    "name": "ipython",
    "version": 3
   },
   "file_extension": ".py",
   "mimetype": "text/x-python",
   "name": "python",
   "nbconvert_exporter": "python",
   "pygments_lexer": "ipython3",
   "version": "3.9.13"
  },
  "orig_nbformat": 4
 },
 "nbformat": 4,
 "nbformat_minor": 2
}
