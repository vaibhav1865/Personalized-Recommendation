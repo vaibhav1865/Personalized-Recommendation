{
 "cells": [
  {
   "cell_type": "code",
   "execution_count": 4,
   "metadata": {},
   "outputs": [],
   "source": [
    "import numpy as np\n",
    "import pandas as pd \n",
    "from sklearn.metrics.pairwise import sigmoid_kernel\n",
    "from sklearn.feature_extraction.text import TfidfVectorizer\n",
    "from sklearn.metrics.pairwise import cosine_similarity\n",
    "from gensim.models import Word2Vec\n",
    "from gensim.models import KeyedVectors\n",
    "import gensim\n",
    "import numpy as np\n",
    "import pandas as pd\n",
    "from tqdm import tqdm\n",
    "from collections import defaultdict\n",
    "import re\n",
    "import nltk\n"
   ]
  },
  {
   "cell_type": "code",
   "execution_count": 2,
   "metadata": {},
   "outputs": [
    {
     "name": "stdout",
     "output_type": "stream",
     "text": [
      "(20000, 15) 12676 20000\n",
      "['Alisha', 'Solid', \"Women's\", 'Cycling', 'Shorts']\n"
     ]
    }
   ],
   "source": [
    "products = pd.read_csv(r'.\\Recommeder\\Data\\flipkart_com-ecommerce_sample.csv')\n",
    "print(products.shape ,len(products['product_name'].unique()),len(products['uniq_id'].unique()))\n",
    "# products.head()\n",
    "transactions_path = r\".\\Recommeder\\Data\\transaction.csv\"\n",
    "\n",
    "transaction_table = pd.read_csv(transactions_path)\n",
    "\n",
    "products['description'] = products['description'].fillna('')\n",
    "corpus = products['product_name']\n",
    "corpus = corpus.tolist()\n",
    "# print(corpus[0])\n",
    "corpus = [x.split() for x in corpus]\n",
    "print(corpus[0])"
   ]
  },
  {
   "cell_type": "code",
   "execution_count": 5,
   "metadata": {},
   "outputs": [],
   "source": [
    "\n",
    "\n",
    "corpus = [re.sub(r'\\W', ' ', str(x)) for x in corpus]\n",
    "corpus = [re.sub(r'\\s+[a-zA-Z]\\s+', ' ', x) for x in corpus]\n",
    "corpus = [re.sub(r'\\^[a-zA-Z]\\s+', ' ', x) for x in corpus]\n",
    "corpus = [re.sub(r'\\s+', ' ', x, flags=re.I) for x in corpus]\n",
    "corpus = [x.lower() for x in corpus]\n",
    "\n"
   ]
  },
  {
   "cell_type": "code",
   "execution_count": 6,
   "metadata": {},
   "outputs": [],
   "source": [
    "pidToidx = pd.Series(products.index,index=products['uniq_id']).drop_duplicates()\n",
    "pidToProductSeries = pd.Series(products['product_name'].values,index=products['uniq_id']).to_dict()\n"
   ]
  },
  {
   "cell_type": "code",
   "execution_count": 7,
   "metadata": {},
   "outputs": [],
   "source": [
    "# generating sequence of products bought by user\n",
    "new_transaction_table = transaction_table.groupby('UID')['PID'].apply(list).reset_index(name='sequence')"
   ]
  },
  {
   "cell_type": "code",
   "execution_count": 8,
   "metadata": {},
   "outputs": [
    {
     "data": {
      "text/plain": [
       "(1578717, 8220360)"
      ]
     },
     "execution_count": 8,
     "metadata": {},
     "output_type": "execute_result"
    }
   ],
   "source": [
    "model = Word2Vec(sentences=corpus, vector_size=100, window=5, min_count=1, workers=4, sg=0)\n",
    "model.train(corpus, total_examples=len(corpus), epochs=10)"
   ]
  },
  {
   "cell_type": "code",
   "execution_count": 9,
   "metadata": {},
   "outputs": [],
   "source": [
    "def storeEmbeddings(model , corpus):\n",
    "    embeddings = []\n",
    "    for key , product in enumerate(corpus):\n",
    "        featureVec = np.zeros(100,dtype='float32')\n",
    "        nwords = 0\n",
    "        for word in product:\n",
    "            if word in model.wv:\n",
    "                nwords += 1\n",
    "                featureVec = np.add(featureVec,model.wv[word])\n",
    "        if nwords > 0:\n",
    "            featureVec = np.divide(featureVec,nwords)\n",
    "        embeddings.append({'product':product,'vector':featureVec})\n",
    "    return embeddings\n",
    "\n",
    "embeddings = storeEmbeddings( model , corpus )\n"
   ]
  },
  {
   "cell_type": "code",
   "execution_count": 10,
   "metadata": {},
   "outputs": [],
   "source": [
    "embeddings = pd.DataFrame(embeddings , columns=['product','vector'])"
   ]
  },
  {
   "cell_type": "code",
   "execution_count": 16,
   "metadata": {},
   "outputs": [],
   "source": [
    "# wordsinVocab\n",
    "\n",
    "def reccomendProductsw2vec(products_bought , embeddings , topK):\n",
    "    # get the embeddings of the products bought by the user\n",
    "    product_embeddings = []\n",
    "    for idx in products_bought:\n",
    "        product_embeddings.append(embeddings.iloc[idx]['vector'])\n",
    "        # embeddings.iloc[idx]['product']\n",
    "    \n",
    "    product_embeddings = np.array(product_embeddings)\n",
    "    avg_embeddings = np.mean(product_embeddings , axis=0)\n",
    "    similarity_scores = []\n",
    "    for idx , row in embeddings.iterrows():\n",
    "        score = cosine_similarity([avg_embeddings],[row['vector']])\n",
    "        similarity_scores.append((idx,score[0][0]))\n",
    "        \n",
    "    \n",
    "    similarity_scores = sorted(similarity_scores, key=lambda x: x[1], reverse=True)\n",
    "    product_names = []\n",
    "    last_score = 0\n",
    "    for i in similarity_scores:\n",
    "        if last_score == 0 or abs(last_score - i[1]) >= 0.01*last_score:\n",
    "            product_names.append(products.iloc[i[0]]['product_name'])\n",
    "            last_score = i[1]\n",
    "            if len(product_names) == topK:\n",
    "                break\n",
    "            \n",
    "        \n",
    "    return product_names\n"
   ]
  },
  {
   "cell_type": "code",
   "execution_count": 14,
   "metadata": {},
   "outputs": [
    {
     "name": "stdout",
     "output_type": "stream",
     "text": [
      "Past purchases:  13\n",
      "Silver Kartz Beach Sky Blue Wayfarer, Rectangular Sunglasses\n",
      "Joy Living Garden Plant Container Set\n",
      "Delberto Boots\n",
      "NEWGEN TECH EO-HS3303 55 Wired Headset\n",
      "Playboy New York Combo Set\n",
      "Shezone Women Wedges\n",
      "Floret Women's Bra\n",
      "Sahara Q Shop Kadhai 1.5 L\n",
      "Jewel Paradise Brass Plated Brass Necklace\n",
      "Wild Stone Deodorant No-22 Combo Set\n",
      "Voylla Yellow Gold Plated Alloy Necklace\n",
      "Golden Peacock Crystal Alloy Necklace\n",
      "Voylla Artificial Beaded Glossy Yellow Gold Plated Alloy Necklace\n"
     ]
    }
   ],
   "source": [
    "userId = \"2e112284-8013-430d-b784-8f1808dd4e76\"\n",
    "\n",
    "pastPurchases = new_transaction_table[new_transaction_table['UID'] == userId]['sequence'].values\n",
    "\n",
    "# print(pastPurchases)\n",
    "pastPurchasesIdx = []\n",
    "for purchase in pastPurchases:\n",
    "    pastPurchasesIdx.append(pidToidx[purchase].to_list())\n",
    "    \n",
    "\n",
    "pastPurchasesIdx = pastPurchasesIdx[0]\n",
    "print(\"Past purchases: \", len(pastPurchasesIdx))\n",
    "# Print name of products bought by user\n",
    "for i in pastPurchasesIdx:\n",
    "    print(products.iloc[i]['product_name'])\n",
    "\n"
   ]
  },
  {
   "cell_type": "code",
   "execution_count": 19,
   "metadata": {},
   "outputs": [
    {
     "name": "stdout",
     "output_type": "stream",
     "text": [
      "Products bought by user:  13\n",
      "['Silver Kartz Beach Sky Blue Wayfarer, Rectangular Sunglasses', 'Joy Living Garden Plant Container Set', 'Delberto Boots', 'NEWGEN TECH EO-HS3303 55 Wired Headset', 'Playboy New York Combo Set', 'Shezone Women Wedges', \"Floret Women's Bra\", 'Sahara Q Shop Kadhai 1.5 L', 'Jewel Paradise Brass Plated Brass Necklace', 'Wild Stone Deodorant No-22 Combo Set', 'Voylla Yellow Gold Plated Alloy Necklace', 'Golden Peacock Crystal Alloy Necklace', 'Voylla Artificial Beaded Glossy Yellow Gold Plated Alloy Necklace']\n",
      "\n",
      "Top Recommended products are: \n",
      "\n",
      "Product bought by user:  20\n",
      "['Cinthol Shower Gel + Deo Spray - Play Combo Set', \"I Am For You Casual Full Sleeve Solid Women's Top\", 'Pearl Paradise Briolette With Moonlight Elements. Swarovski Crystal Stone Dangle Earring', \"Rama's Casual Floral Print Women's Kurti\", 'Vs International Plastic Necklace', 'STERN KS34SRI SPINE ROLL Massager', \"Vinenzia Printed Winter Men's Gloves\", 'Legrand Legrand Arteor 573601 6A Indicator Mg Switch 6 One Way Electrical Switch', 'Steppings Running Shoes Casuals Shoes', 'Tirupati 4\"- Red Wheel Pizza Cutter', 'Ekku Mickey Mouse  - 15 inch', 'S C Handicrafts Showpiece  -  9.5 cm', \"Fizzaro Women's Leggings\", 'Stuffcool Troop Type C USB USB Hub', 'ruchiworld rucoo27 Showpiece  -  5 cm', \"Kyron Women's Jeggings\", 'Rega IT Compaq Presario V3500 V3500CTO 6 Cell 6 Cell Laptop Battery', 'Anshuhandicrafts ASHCF133 Showpiece  -  6.35 cm', \"Jerry's Jppb11584 XL Pet Bed\", 'HP 15-ac116TX (Notebook) (Core i3 (5th Gen)/ 4GB/ 1TB/ Win10/ 2GB Graph) (N8M19PA)']\n",
      "\n"
     ]
    }
   ],
   "source": [
    "\n",
    "reccomdations = []\n",
    "# Past Purchases\n",
    "pastPurchases = new_transaction_table[new_transaction_table['UID'] == userId]['sequence'].values\n",
    "\n",
    "# Print name of products bought by user\n",
    "pastProductNames = []\n",
    "for i in pastPurchases[0]:\n",
    "    pastProductNames.append(pidToProductSeries[i])\n",
    "\n",
    "print(\"Products bought by user: \", len(pastProductNames))\n",
    "\n",
    "print(pastProductNames)\n",
    "\n",
    "\n",
    "\n",
    "print(\"\\nTop Recommended products are: \\n\")\n",
    "reccomdations = reccomendProductsw2vec(pastPurchasesIdx ,embeddings  , 20)\n",
    "print(\"Product bought by user: \", len(reccomdations))\n",
    "print(reccomdations , end = '\\n\\n')\n",
    "\n"
   ]
  }
 ],
 "metadata": {
  "kernelspec": {
   "display_name": "base",
   "language": "python",
   "name": "python3"
  },
  "language_info": {
   "codemirror_mode": {
    "name": "ipython",
    "version": 3
   },
   "file_extension": ".py",
   "mimetype": "text/x-python",
   "name": "python",
   "nbconvert_exporter": "python",
   "pygments_lexer": "ipython3",
   "version": "3.9.13"
  },
  "orig_nbformat": 4
 },
 "nbformat": 4,
 "nbformat_minor": 2
}
